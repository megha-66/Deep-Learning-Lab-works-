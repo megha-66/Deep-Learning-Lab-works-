{
  "metadata": {
    "kernelspec": {
      "language": "python",
      "display_name": "Python 3",
      "name": "python3"
    },
    "language_info": {
      "name": "python",
      "version": "3.10.14",
      "mimetype": "text/x-python",
      "codemirror_mode": {
        "name": "ipython",
        "version": 3
      },
      "pygments_lexer": "ipython3",
      "nbconvert_exporter": "python",
      "file_extension": ".py"
    },
    "kaggle": {
      "accelerator": "nvidiaTeslaT4",
      "dataSources": [],
      "dockerImageVersionId": 30762,
      "isInternetEnabled": true,
      "language": "python",
      "sourceType": "notebook",
      "isGpuEnabled": true
    },
    "colab": {
      "provenance": [],
      "include_colab_link": true
    }
  },
  "nbformat_minor": 0,
  "nbformat": 4,
  "cells": [
    {
      "cell_type": "markdown",
      "metadata": {
        "id": "view-in-github",
        "colab_type": "text"
      },
      "source": [
        "<a href=\"https://colab.research.google.com/github/megha-66/Deep-Learning-Lab-works-/blob/main/dl_lab5.ipynb\" target=\"_parent\"><img src=\"https://colab.research.google.com/assets/colab-badge.svg\" alt=\"Open In Colab\"/></a>"
      ]
    },
    {
      "cell_type": "code",
      "source": [
        "import torch\n",
        "from torchvision import datasets, transforms\n",
        "from torch.utils.data import DataLoader"
      ],
      "metadata": {
        "execution": {
          "iopub.status.busy": "2024-09-09T16:00:27.993113Z",
          "iopub.execute_input": "2024-09-09T16:00:27.993503Z",
          "iopub.status.idle": "2024-09-09T16:00:32.440232Z",
          "shell.execute_reply.started": "2024-09-09T16:00:27.993468Z",
          "shell.execute_reply": "2024-09-09T16:00:32.439450Z"
        },
        "trusted": true,
        "id": "EH8SK-pqsIqM"
      },
      "execution_count": null,
      "outputs": []
    },
    {
      "cell_type": "code",
      "source": [
        "from sklearn.datasets import fetch_lfw_people\n",
        "import matplotlib.pyplot as plt\n"
      ],
      "metadata": {
        "execution": {
          "iopub.status.busy": "2024-09-09T16:09:51.523420Z",
          "iopub.execute_input": "2024-09-09T16:09:51.524174Z",
          "iopub.status.idle": "2024-09-09T16:09:51.528252Z",
          "shell.execute_reply.started": "2024-09-09T16:09:51.524136Z",
          "shell.execute_reply": "2024-09-09T16:09:51.527278Z"
        },
        "trusted": true,
        "id": "pQc8Vvp_sIqN"
      },
      "execution_count": null,
      "outputs": []
    },
    {
      "cell_type": "code",
      "source": [
        "lfw_people = fetch_lfw_people(min_faces_per_person=70, resize=0.4)\n"
      ],
      "metadata": {
        "execution": {
          "iopub.status.busy": "2024-09-09T16:10:06.227232Z",
          "iopub.execute_input": "2024-09-09T16:10:06.227641Z",
          "iopub.status.idle": "2024-09-09T16:10:31.530324Z",
          "shell.execute_reply.started": "2024-09-09T16:10:06.227600Z",
          "shell.execute_reply": "2024-09-09T16:10:31.529186Z"
        },
        "trusted": true,
        "id": "wVtdJc7zsIqO"
      },
      "execution_count": null,
      "outputs": []
    },
    {
      "cell_type": "code",
      "source": [
        "n_samples, h, w = lfw_people.images.shape\n",
        "n_features = lfw_people.data.shape[1]\n",
        "n_classes = len(lfw_people.target_names)"
      ],
      "metadata": {
        "execution": {
          "iopub.status.busy": "2024-09-09T16:11:03.398876Z",
          "iopub.execute_input": "2024-09-09T16:11:03.399801Z",
          "iopub.status.idle": "2024-09-09T16:11:03.404224Z",
          "shell.execute_reply.started": "2024-09-09T16:11:03.399758Z",
          "shell.execute_reply": "2024-09-09T16:11:03.403197Z"
        },
        "trusted": true,
        "id": "6gquKDy8sIqO"
      },
      "execution_count": null,
      "outputs": []
    },
    {
      "cell_type": "code",
      "source": [
        "print(f\"Number of samples: {n_samples}\")\n",
        "print(f\"Image dimensions (height x width): {h} x {w}\")\n",
        "print(f\"Number of features: {n_features}\")\n",
        "print(f\"Number of unique classes/people: {n_classes}\")\n",
        "print(f\"Class names: {lfw_people.target_names}\")\n"
      ],
      "metadata": {
        "execution": {
          "iopub.status.busy": "2024-09-09T16:11:18.566797Z",
          "iopub.execute_input": "2024-09-09T16:11:18.567196Z",
          "iopub.status.idle": "2024-09-09T16:11:18.572497Z",
          "shell.execute_reply.started": "2024-09-09T16:11:18.567158Z",
          "shell.execute_reply": "2024-09-09T16:11:18.571749Z"
        },
        "trusted": true,
        "id": "FcB3nRd8sIqO",
        "outputId": "514544d2-3bde-42dc-f26f-0f1dc1606b07"
      },
      "execution_count": null,
      "outputs": [
        {
          "name": "stdout",
          "text": "Number of samples: 1288\nImage dimensions (height x width): 50 x 37\nNumber of features: 1850\nNumber of unique classes/people: 7\nClass names: ['Ariel Sharon' 'Colin Powell' 'Donald Rumsfeld' 'George W Bush'\n 'Gerhard Schroeder' 'Hugo Chavez' 'Tony Blair']\n",
          "output_type": "stream"
        }
      ]
    },
    {
      "cell_type": "code",
      "source": [
        "fig, axes = plt.subplots(2, 5, figsize=(10, 5))\n",
        "for i, ax in enumerate(axes.flat):\n",
        "    ax.imshow(lfw_people.images[i], cmap='gray')\n",
        "    ax.set_title(lfw_people.target_names[lfw_people.target[i]])\n",
        "    ax.axis('off')\n",
        "plt.show()"
      ],
      "metadata": {
        "execution": {
          "iopub.status.busy": "2024-09-09T16:13:03.880325Z",
          "iopub.execute_input": "2024-09-09T16:13:03.881188Z",
          "iopub.status.idle": "2024-09-09T16:13:04.496406Z",
          "shell.execute_reply.started": "2024-09-09T16:13:03.881147Z",
          "shell.execute_reply": "2024-09-09T16:13:04.495428Z"
        },
        "trusted": true,
        "id": "tIlCWeGcsIqP",
        "outputId": "a59da941-7ef2-4e4f-9dfb-8bb9c7009c00"
      },
      "execution_count": null,
      "outputs": [
        {
          "output_type": "display_data",
          "data": {
            "text/plain": "<Figure size 1000x500 with 10 Axes>",
            "image/png": "[encoded data removed]"
          },
          "metadata": {}
        }
      ]
    },
    {
      "cell_type": "code",
      "source": [
        "print(f\"Original Min pixel value: {np.min(lfw_people.images)}\")\n",
        "print(f\"Original Max pixel value: {np.max(lfw_people.images)}\")\n"
      ],
      "metadata": {
        "execution": {
          "iopub.status.busy": "2024-09-09T16:22:26.870689Z",
          "iopub.execute_input": "2024-09-09T16:22:26.871418Z",
          "iopub.status.idle": "2024-09-09T16:22:26.877489Z",
          "shell.execute_reply.started": "2024-09-09T16:22:26.871380Z",
          "shell.execute_reply": "2024-09-09T16:22:26.876538Z"
        },
        "trusted": true,
        "id": "t8PZDvyfsIqP",
        "outputId": "66d265f3-5ca8-4498-f847-e2b88c54dbc9"
      },
      "execution_count": null,
      "outputs": [
        {
          "name": "stdout",
          "text": "Original Min pixel value: 0.0\nOriginal Max pixel value: 1.0\n",
          "output_type": "stream"
        }
      ]
    },
    {
      "cell_type": "code",
      "source": [
        "import tensorflow as tf\n",
        "from tensorflow.keras import layers,models, Input"
      ],
      "metadata": {
        "execution": {
          "iopub.status.busy": "2024-09-09T18:07:19.391185Z",
          "iopub.execute_input": "2024-09-09T18:07:19.392011Z",
          "iopub.status.idle": "2024-09-09T18:07:19.396390Z",
          "shell.execute_reply.started": "2024-09-09T18:07:19.391972Z",
          "shell.execute_reply": "2024-09-09T18:07:19.395338Z"
        },
        "trusted": true,
        "id": "Bft58XGlsIqP"
      },
      "execution_count": null,
      "outputs": []
    },
    {
      "cell_type": "code",
      "source": [
        "x = lfw_people.images\n",
        "y = lfw_people.target\n",
        "class_names = lfw_people.target_names"
      ],
      "metadata": {
        "execution": {
          "iopub.status.busy": "2024-09-09T18:07:25.184712Z",
          "iopub.execute_input": "2024-09-09T18:07:25.185577Z",
          "iopub.status.idle": "2024-09-09T18:07:25.189516Z",
          "shell.execute_reply.started": "2024-09-09T18:07:25.185537Z",
          "shell.execute_reply": "2024-09-09T18:07:25.188616Z"
        },
        "trusted": true,
        "id": "sVE12WoisIqQ"
      },
      "execution_count": null,
      "outputs": []
    },
    {
      "cell_type": "code",
      "source": [
        "from sklearn.model_selection import train_test_split\n",
        "X_train, X_test, y_train, y_test = train_test_split(x, y, test_size=0.3, random_state=42)\n"
      ],
      "metadata": {
        "execution": {
          "iopub.status.busy": "2024-09-09T18:07:32.330351Z",
          "iopub.execute_input": "2024-09-09T18:07:32.330759Z",
          "iopub.status.idle": "2024-09-09T18:07:32.339279Z",
          "shell.execute_reply.started": "2024-09-09T18:07:32.330723Z",
          "shell.execute_reply": "2024-09-09T18:07:32.338110Z"
        },
        "trusted": true,
        "id": "ilfWwAqzsIqQ"
      },
      "execution_count": null,
      "outputs": []
    },
    {
      "cell_type": "code",
      "source": [
        "def create_triplets(x, y):\n",
        "    num_classes = len(np.unique(y))\n",
        "    triplets = []\n",
        "\n",
        "    for i in range(len(x)):\n",
        "        anchor_image = x[i]\n",
        "        anchor_label = y[i]\n",
        "\n",
        "        # Positive sample\n",
        "        positive_indices = np.where(y == anchor_label)[0]\n",
        "        positive_indices = positive_indices[positive_indices != i]  # Remove the anchor itself\n",
        "        if len(positive_indices) == 0:\n",
        "            continue  # Skip if no positive samples are found\n",
        "        positive_image = x[np.random.choice(positive_indices)]\n",
        "\n",
        "        # Negative sample\n",
        "        negative_label = np.random.choice(np.setdiff1d(np.unique(y), anchor_label))\n",
        "        negative_indices = np.where(y == negative_label)[0]\n",
        "        if len(negative_indices) == 0:\n",
        "            continue\n",
        "        negative_image = x[np.random.choice(negative_indices)]\n",
        "\n",
        "        triplets.append((anchor_image, positive_image, negative_image))\n",
        "\n",
        "    return np.array(triplets)"
      ],
      "metadata": {
        "execution": {
          "iopub.status.busy": "2024-09-09T18:07:39.450505Z",
          "iopub.execute_input": "2024-09-09T18:07:39.450907Z",
          "iopub.status.idle": "2024-09-09T18:07:39.459066Z",
          "shell.execute_reply.started": "2024-09-09T18:07:39.450871Z",
          "shell.execute_reply": "2024-09-09T18:07:39.458171Z"
        },
        "trusted": true,
        "id": "wyDxE5O5sIqQ"
      },
      "execution_count": null,
      "outputs": []
    },
    {
      "cell_type": "code",
      "source": [
        "triplets_train = create_triplets(X_train, y_train)\n",
        "anchor_data = np.array([t[0] for t in triplets_train])\n",
        "positive_data = np.array([t[1] for t in triplets_train])\n",
        "negative_data = np.array([t[2] for t in triplets_train])"
      ],
      "metadata": {
        "execution": {
          "iopub.status.busy": "2024-09-09T18:07:46.134326Z",
          "iopub.execute_input": "2024-09-09T18:07:46.134726Z",
          "iopub.status.idle": "2024-09-09T18:07:46.321274Z",
          "shell.execute_reply.started": "2024-09-09T18:07:46.134688Z",
          "shell.execute_reply": "2024-09-09T18:07:46.320501Z"
        },
        "trusted": true,
        "id": "-Yj7VEt9sIqR"
      },
      "execution_count": null,
      "outputs": []
    },
    {
      "cell_type": "code",
      "source": [
        "def build_cnn_model(input_shape):\n",
        "    model = models.Sequential([\n",
        "        layers.Conv2D(64, (7, 7), activation='relu', padding='same', input_shape=input_shape),\n",
        "        layers.MaxPooling2D(pool_size=(2, 2)),\n",
        "        layers.Conv2D(128, (5, 5), activation='relu', padding='same'),\n",
        "        layers.MaxPooling2D(pool_size=(2, 2)),\n",
        "        layers.Conv2D(256, (3, 3), activation='relu', padding='same'),\n",
        "        layers.MaxPooling2D(pool_size=(2, 2)),\n",
        "        layers.Conv2D(512, (3, 3), activation='relu', padding='same'),\n",
        "        layers.GlobalAveragePooling2D(),\n",
        "        layers.Dense(256, activation='relu'),\n",
        "        layers.Lambda(lambda x: tf.math.l2_normalize(x, axis=1))  # L2 normalization for embeddings\n",
        "    ])\n",
        "\n",
        "    return model"
      ],
      "metadata": {
        "execution": {
          "iopub.status.busy": "2024-09-09T18:07:52.356966Z",
          "iopub.execute_input": "2024-09-09T18:07:52.357368Z",
          "iopub.status.idle": "2024-09-09T18:07:52.364874Z",
          "shell.execute_reply.started": "2024-09-09T18:07:52.357326Z",
          "shell.execute_reply": "2024-09-09T18:07:52.363864Z"
        },
        "trusted": true,
        "id": "Mn_flfC4sIqR"
      },
      "execution_count": null,
      "outputs": []
    },
    {
      "cell_type": "code",
      "source": [
        "import tensorflow as tf\n",
        "\n",
        "class TripletLoss(tf.keras.losses.Loss):\n",
        "    def __init__(self, margin=1.0, **kwargs):\n",
        "        super(TripletLoss, self).__init__(**kwargs)\n",
        "        self.margin = margin\n",
        "\n",
        "    def call(self, y_true, y_pred):\n",
        "        anchor_embedding, positive_embedding, negative_embedding = y_pred\n",
        "\n",
        "        # Calculate pairwise distances\n",
        "        pos_distance = tf.reduce_sum(tf.square(anchor_embedding - positive_embedding), axis=1)\n",
        "        neg_distance = tf.reduce_sum(tf.square(anchor_embedding - negative_embedding), axis=1)\n",
        "\n",
        "        # Compute triplet loss\n",
        "        loss = tf.maximum(pos_distance - neg_distance + self.margin, 0.0)\n",
        "        return tf.reduce_mean(loss)\n"
      ],
      "metadata": {
        "execution": {
          "iopub.status.busy": "2024-09-09T18:21:30.025384Z",
          "iopub.execute_input": "2024-09-09T18:21:30.026198Z",
          "iopub.status.idle": "2024-09-09T18:21:30.033887Z",
          "shell.execute_reply.started": "2024-09-09T18:21:30.026157Z",
          "shell.execute_reply": "2024-09-09T18:21:30.032894Z"
        },
        "trusted": true,
        "id": "h8oxYikHsIqR"
      },
      "execution_count": null,
      "outputs": []
    },
    {
      "cell_type": "code",
      "source": [
        "inputshape = (50, 37, 1)\n",
        "cnnmodel = build_cnn_model(inputshape)"
      ],
      "metadata": {
        "execution": {
          "iopub.status.busy": "2024-09-09T18:07:59.883722Z",
          "iopub.execute_input": "2024-09-09T18:07:59.884069Z",
          "iopub.status.idle": "2024-09-09T18:07:59.943465Z",
          "shell.execute_reply.started": "2024-09-09T18:07:59.884037Z",
          "shell.execute_reply": "2024-09-09T18:07:59.942491Z"
        },
        "trusted": true,
        "id": "adtEfRkFsIqS"
      },
      "execution_count": null,
      "outputs": []
    },
    {
      "cell_type": "code",
      "source": [
        "anchor_input = Input(shape=inputshape, name=\"anchor_input\")\n",
        "positive_input = Input(shape=inputshape, name=\"positive_input\")\n",
        "negative_input = Input(shape=inputshape, name=\"negative_input\")\n"
      ],
      "metadata": {
        "execution": {
          "iopub.status.busy": "2024-09-09T18:08:03.589876Z",
          "iopub.execute_input": "2024-09-09T18:08:03.590381Z",
          "iopub.status.idle": "2024-09-09T18:08:03.599840Z",
          "shell.execute_reply.started": "2024-09-09T18:08:03.590329Z",
          "shell.execute_reply": "2024-09-09T18:08:03.598685Z"
        },
        "trusted": true,
        "id": "4sC1vSWosIqS"
      },
      "execution_count": null,
      "outputs": []
    },
    {
      "cell_type": "code",
      "source": [
        "anchor_embedding = cnnmodel(anchor_input)\n",
        "positive_embedding = cnnmodel(positive_input)\n",
        "negative_embedding = cnnmodel(negative_input)\n"
      ],
      "metadata": {
        "execution": {
          "iopub.status.busy": "2024-09-09T18:08:07.516271Z",
          "iopub.execute_input": "2024-09-09T18:08:07.516696Z",
          "iopub.status.idle": "2024-09-09T18:08:07.523270Z",
          "shell.execute_reply.started": "2024-09-09T18:08:07.516659Z",
          "shell.execute_reply": "2024-09-09T18:08:07.522258Z"
        },
        "trusted": true,
        "id": "judgI7-UsIqT"
      },
      "execution_count": null,
      "outputs": []
    },
    {
      "cell_type": "code",
      "source": [
        "siamese_network = tf.keras.Model(inputs=[anchor_input, positive_input, negative_input],\n",
        "                               outputs=[anchor_embedding, positive_embedding, negative_embedding])"
      ],
      "metadata": {
        "execution": {
          "iopub.status.busy": "2024-09-09T18:08:09.915987Z",
          "iopub.execute_input": "2024-09-09T18:08:09.916382Z",
          "iopub.status.idle": "2024-09-09T18:08:09.924340Z",
          "shell.execute_reply.started": "2024-09-09T18:08:09.916348Z",
          "shell.execute_reply": "2024-09-09T18:08:09.923382Z"
        },
        "trusted": true,
        "id": "xN9p6IUEsIqT"
      },
      "execution_count": null,
      "outputs": []
    },
    {
      "cell_type": "code",
      "source": [
        "# Define optimizer\n",
        "optimizer = tf.keras.optimizers.Adam(learning_rate=0.001)\n",
        "\n",
        "triplet_loss_fn = TripletLoss(margin=1.0)\n",
        "\n",
        "# Compile the model with the triplet loss function\n",
        "siamese_network.compile(optimizer=optimizer, loss=triplet_loss_fn)\n"
      ],
      "metadata": {
        "execution": {
          "iopub.status.busy": "2024-09-09T18:22:29.509269Z",
          "iopub.execute_input": "2024-09-09T18:22:29.510203Z",
          "iopub.status.idle": "2024-09-09T18:22:29.520125Z",
          "shell.execute_reply.started": "2024-09-09T18:22:29.510163Z",
          "shell.execute_reply": "2024-09-09T18:22:29.519433Z"
        },
        "trusted": true,
        "id": "s6Cu4RU0sIqT"
      },
      "execution_count": null,
      "outputs": []
    },
    {
      "cell_type": "code",
      "source": [
        "def create_tf_dataset(anchor_data, positive_data, negative_data, batch_size):\n",
        "    dataset = tf.data.Dataset.from_tensor_slices(((anchor_data, positive_data, negative_data),\n",
        "                                                 (anchor_data, positive_data, negative_data)))\n",
        "    dataset = dataset.shuffle(buffer_size=10000).batch(16).prefetch(buffer_size=tf.data.AUTOTUNE)\n",
        "    return dataset\n",
        "\n",
        "train_dataset = create_tf_dataset(anchor_data, positive_data, negative_data, 16)"
      ],
      "metadata": {
        "execution": {
          "iopub.status.busy": "2024-09-09T18:18:07.689018Z",
          "iopub.execute_input": "2024-09-09T18:18:07.689880Z",
          "iopub.status.idle": "2024-09-09T18:18:07.769422Z",
          "shell.execute_reply.started": "2024-09-09T18:18:07.689837Z",
          "shell.execute_reply": "2024-09-09T18:18:07.768648Z"
        },
        "trusted": true,
        "id": "hj-aLy1rsIqU"
      },
      "execution_count": null,
      "outputs": []
    },
    {
      "cell_type": "code",
      "source": [
        "train_dataset = create_tf_dataset(anchor_data, positive_data, negative_data, 16)"
      ],
      "metadata": {
        "execution": {
          "iopub.status.busy": "2024-09-09T18:18:18.647154Z",
          "iopub.execute_input": "2024-09-09T18:18:18.648091Z",
          "iopub.status.idle": "2024-09-09T18:18:18.717037Z",
          "shell.execute_reply.started": "2024-09-09T18:18:18.648051Z",
          "shell.execute_reply": "2024-09-09T18:18:18.716260Z"
        },
        "trusted": true,
        "id": "g0rMf_RKsIqU"
      },
      "execution_count": null,
      "outputs": []
    },
    {
      "cell_type": "code",
      "source": [
        "from tensorflow.keras.callbacks import EarlyStopping\n",
        "early_stopping = EarlyStopping(monitor='loss', patience=3)\n"
      ],
      "metadata": {
        "execution": {
          "iopub.status.busy": "2024-09-09T18:18:24.336033Z",
          "iopub.execute_input": "2024-09-09T18:18:24.336438Z",
          "iopub.status.idle": "2024-09-09T18:18:24.341134Z",
          "shell.execute_reply.started": "2024-09-09T18:18:24.336386Z",
          "shell.execute_reply": "2024-09-09T18:18:24.340118Z"
        },
        "trusted": true,
        "id": "m2KhDrotsIqU"
      },
      "execution_count": null,
      "outputs": []
    },
    {
      "cell_type": "code",
      "source": [
        "history = siamese_network.fit(train_dataset,\n",
        "\n",
        "                              epochs=2,\n",
        "                              callbacks=[early_stopping])"
      ],
      "metadata": {
        "execution": {
          "iopub.status.busy": "2024-09-09T18:25:15.352424Z",
          "iopub.execute_input": "2024-09-09T18:25:15.353046Z",
          "iopub.status.idle": "2024-09-09T18:25:15.550613Z",
          "shell.execute_reply.started": "2024-09-09T18:25:15.353006Z",
          "shell.execute_reply": "2024-09-09T18:25:15.549439Z"
        },
        "trusted": true,
        "id": "1TfO_zTKsIqU",
        "outputId": "50cae7ce-9101-4598-8704-2cdfa26f28d8"
      },
      "execution_count": null,
      "outputs": [
        {
          "name": "stdout",
          "text": "Epoch 1/2\n",
          "output_type": "stream"
        },
        {
          "traceback": [
            "\u001b[0;31m---------------------------------------------------------------------------\u001b[0m",
            "\u001b[0;31mOperatorNotAllowedInGraphError\u001b[0m            Traceback (most recent call last)",
            "Cell \u001b[0;32mIn[112], line 1\u001b[0m\n\u001b[0;32m----> 1\u001b[0m history \u001b[38;5;241m=\u001b[39m \u001b[43msiamese_network\u001b[49m\u001b[38;5;241;43m.\u001b[39;49m\u001b[43mfit\u001b[49m\u001b[43m(\u001b[49m\u001b[43mtrain_dataset\u001b[49m\u001b[43m,\u001b[49m\n\u001b[1;32m      2\u001b[0m \u001b[43m                             \u001b[49m\n\u001b[1;32m      3\u001b[0m \u001b[43m                              \u001b[49m\u001b[43mepochs\u001b[49m\u001b[38;5;241;43m=\u001b[39;49m\u001b[38;5;241;43m2\u001b[39;49m\u001b[43m,\u001b[49m\n\u001b[1;32m      4\u001b[0m \u001b[43m                              \u001b[49m\u001b[43mcallbacks\u001b[49m\u001b[38;5;241;43m=\u001b[39;49m\u001b[43m[\u001b[49m\u001b[43mearly_stopping\u001b[49m\u001b[43m]\u001b[49m\u001b[43m)\u001b[49m\n",
            "File \u001b[0;32m/opt/conda/lib/python3.10/site-packages/keras/src/utils/traceback_utils.py:122\u001b[0m, in \u001b[0;36mfilter_traceback.<locals>.error_handler\u001b[0;34m(*args, **kwargs)\u001b[0m\n\u001b[1;32m    119\u001b[0m     filtered_tb \u001b[38;5;241m=\u001b[39m _process_traceback_frames(e\u001b[38;5;241m.\u001b[39m__traceback__)\n\u001b[1;32m    120\u001b[0m     \u001b[38;5;66;03m# To get the full stack trace, call:\u001b[39;00m\n\u001b[1;32m    121\u001b[0m     \u001b[38;5;66;03m# `keras.config.disable_traceback_filtering()`\u001b[39;00m\n\u001b[0;32m--> 122\u001b[0m     \u001b[38;5;28;01mraise\u001b[39;00m e\u001b[38;5;241m.\u001b[39mwith_traceback(filtered_tb) \u001b[38;5;28;01mfrom\u001b[39;00m \u001b[38;5;28;01mNone\u001b[39;00m\n\u001b[1;32m    123\u001b[0m \u001b[38;5;28;01mfinally\u001b[39;00m:\n\u001b[1;32m    124\u001b[0m     \u001b[38;5;28;01mdel\u001b[39;00m filtered_tb\n",
            "Cell \u001b[0;32mIn[108], line 9\u001b[0m, in \u001b[0;36mTripletLoss.call\u001b[0;34m(self, y_true, y_pred)\u001b[0m\n\u001b[1;32m      8\u001b[0m \u001b[38;5;28;01mdef\u001b[39;00m \u001b[38;5;21mcall\u001b[39m(\u001b[38;5;28mself\u001b[39m, y_true, y_pred):\n\u001b[0;32m----> 9\u001b[0m     anchor_embedding, positive_embedding, negative_embedding \u001b[38;5;241m=\u001b[39m y_pred\n\u001b[1;32m     11\u001b[0m     \u001b[38;5;66;03m# Calculate pairwise distances\u001b[39;00m\n\u001b[1;32m     12\u001b[0m     pos_distance \u001b[38;5;241m=\u001b[39m tf\u001b[38;5;241m.\u001b[39mreduce_sum(tf\u001b[38;5;241m.\u001b[39msquare(anchor_embedding \u001b[38;5;241m-\u001b[39m positive_embedding), axis\u001b[38;5;241m=\u001b[39m\u001b[38;5;241m1\u001b[39m)\n",
            "\u001b[0;31mOperatorNotAllowedInGraphError\u001b[0m: Iterating over a symbolic `tf.Tensor` is not allowed. You can attempt the following resolutions to the problem: If you are running in Graph mode, use Eager execution mode or decorate this function with @tf.function. If you are using AutoGraph, you can try decorating this function with @tf.function. If that does not work, then you may be using an unsupported feature or your source code may not be visible to AutoGraph. See https://github.com/tensorflow/tensorflow/blob/master/tensorflow/python/autograph/g3doc/reference/limitations.md#access-to-source-code for more information."
          ],
          "ename": "OperatorNotAllowedInGraphError",
          "evalue": "Iterating over a symbolic `tf.Tensor` is not allowed. You can attempt the following resolutions to the problem: If you are running in Graph mode, use Eager execution mode or decorate this function with @tf.function. If you are using AutoGraph, you can try decorating this function with @tf.function. If that does not work, then you may be using an unsupported feature or your source code may not be visible to AutoGraph. See https://github.com/tensorflow/tensorflow/blob/master/tensorflow/python/autograph/g3doc/reference/limitations.md#access-to-source-code for more information.",
          "output_type": "error"
        }
      ]
    },
    {
      "cell_type": "code",
      "source": [
        "siamese_network.summary()"
      ],
      "metadata": {
        "execution": {
          "iopub.status.busy": "2024-09-09T18:16:02.623349Z",
          "iopub.execute_input": "2024-09-09T18:16:02.623749Z",
          "iopub.status.idle": "2024-09-09T18:16:02.643914Z",
          "shell.execute_reply.started": "2024-09-09T18:16:02.623714Z",
          "shell.execute_reply": "2024-09-09T18:16:02.643067Z"
        },
        "trusted": true,
        "id": "OaxzZPnwsIqV",
        "outputId": "ad8da363-e6b0-43a3-d6c7-c3440cfe3eed"
      },
      "execution_count": null,
      "outputs": [
        {
          "output_type": "display_data",
          "data": {
            "text/plain": "\u001b[1mModel: \"functional_6\"\u001b[0m\n",
            "text/html": "<pre style=\"white-space:pre;overflow-x:auto;line-height:normal;font-family:Menlo,'DejaVu Sans Mono',consolas,'Courier New',monospace\"><span style=\"font-weight: bold\">Model: \"functional_6\"</span>\n</pre>\n"
          },
          "metadata": {}
        },
        {
          "output_type": "display_data",
          "data": {
            "text/plain": "┏━━━━━━━━━━━━━━━━━━━━━┳━━━━━━━━━━━━━━━━━━━┳━━━━━━━━━━━━┳━━━━━━━━━━━━━━━━━━━┓\n┃\u001b[1m \u001b[0m\u001b[1mLayer (type)       \u001b[0m\u001b[1m \u001b[0m┃\u001b[1m \u001b[0m\u001b[1mOutput Shape     \u001b[0m\u001b[1m \u001b[0m┃\u001b[1m \u001b[0m\u001b[1m   Param #\u001b[0m\u001b[1m \u001b[0m┃\u001b[1m \u001b[0m\u001b[1mConnected to     \u001b[0m\u001b[1m \u001b[0m┃\n┡━━━━━━━━━━━━━━━━━━━━━╇━━━━━━━━━━━━━━━━━━━╇━━━━━━━━━━━━╇━━━━━━━━━━━━━━━━━━━┩\n│ anchor_input        │ (\u001b[38;5;45mNone\u001b[0m, \u001b[38;5;34m50\u001b[0m, \u001b[38;5;34m37\u001b[0m, \u001b[38;5;34m1\u001b[0m) │          \u001b[38;5;34m0\u001b[0m │ -                 │\n│ (\u001b[38;5;33mInputLayer\u001b[0m)        │                   │            │                   │\n├─────────────────────┼───────────────────┼────────────┼───────────────────┤\n│ positive_input      │ (\u001b[38;5;45mNone\u001b[0m, \u001b[38;5;34m50\u001b[0m, \u001b[38;5;34m37\u001b[0m, \u001b[38;5;34m1\u001b[0m) │          \u001b[38;5;34m0\u001b[0m │ -                 │\n│ (\u001b[38;5;33mInputLayer\u001b[0m)        │                   │            │                   │\n├─────────────────────┼───────────────────┼────────────┼───────────────────┤\n│ negative_input      │ (\u001b[38;5;45mNone\u001b[0m, \u001b[38;5;34m50\u001b[0m, \u001b[38;5;34m37\u001b[0m, \u001b[38;5;34m1\u001b[0m) │          \u001b[38;5;34m0\u001b[0m │ -                 │\n│ (\u001b[38;5;33mInputLayer\u001b[0m)        │                   │            │                   │\n├─────────────────────┼───────────────────┼────────────┼───────────────────┤\n│ sequential_5        │ (\u001b[38;5;45mNone\u001b[0m, \u001b[38;5;34m256\u001b[0m)       │  \u001b[38;5;34m1,814,784\u001b[0m │ anchor_input[\u001b[38;5;34m0\u001b[0m][\u001b[38;5;34m…\u001b[0m │\n│ (\u001b[38;5;33mSequential\u001b[0m)        │                   │            │ positive_input[\u001b[38;5;34m0\u001b[0m… │\n│                     │                   │            │ negative_input[\u001b[38;5;34m0\u001b[0m… │\n└─────────────────────┴───────────────────┴────────────┴───────────────────┘\n",
            "text/html": "<pre style=\"white-space:pre;overflow-x:auto;line-height:normal;font-family:Menlo,'DejaVu Sans Mono',consolas,'Courier New',monospace\">┏━━━━━━━━━━━━━━━━━━━━━┳━━━━━━━━━━━━━━━━━━━┳━━━━━━━━━━━━┳━━━━━━━━━━━━━━━━━━━┓\n┃<span style=\"font-weight: bold\"> Layer (type)        </span>┃<span style=\"font-weight: bold\"> Output Shape      </span>┃<span style=\"font-weight: bold\">    Param # </span>┃<span style=\"font-weight: bold\"> Connected to      </span>┃\n┡━━━━━━━━━━━━━━━━━━━━━╇━━━━━━━━━━━━━━━━━━━╇━━━━━━━━━━━━╇━━━━━━━━━━━━━━━━━━━┩\n│ anchor_input        │ (<span style=\"color: #00d7ff; text-decoration-color: #00d7ff\">None</span>, <span style=\"color: #00af00; text-decoration-color: #00af00\">50</span>, <span style=\"color: #00af00; text-decoration-color: #00af00\">37</span>, <span style=\"color: #00af00; text-decoration-color: #00af00\">1</span>) │          <span style=\"color: #00af00; text-decoration-color: #00af00\">0</span> │ -                 │\n│ (<span style=\"color: #0087ff; text-decoration-color: #0087ff\">InputLayer</span>)        │                   │            │                   │\n├─────────────────────┼───────────────────┼────────────┼───────────────────┤\n│ positive_input      │ (<span style=\"color: #00d7ff; text-decoration-color: #00d7ff\">None</span>, <span style=\"color: #00af00; text-decoration-color: #00af00\">50</span>, <span style=\"color: #00af00; text-decoration-color: #00af00\">37</span>, <span style=\"color: #00af00; text-decoration-color: #00af00\">1</span>) │          <span style=\"color: #00af00; text-decoration-color: #00af00\">0</span> │ -                 │\n│ (<span style=\"color: #0087ff; text-decoration-color: #0087ff\">InputLayer</span>)        │                   │            │                   │\n├─────────────────────┼───────────────────┼────────────┼───────────────────┤\n│ negative_input      │ (<span style=\"color: #00d7ff; text-decoration-color: #00d7ff\">None</span>, <span style=\"color: #00af00; text-decoration-color: #00af00\">50</span>, <span style=\"color: #00af00; text-decoration-color: #00af00\">37</span>, <span style=\"color: #00af00; text-decoration-color: #00af00\">1</span>) │          <span style=\"color: #00af00; text-decoration-color: #00af00\">0</span> │ -                 │\n│ (<span style=\"color: #0087ff; text-decoration-color: #0087ff\">InputLayer</span>)        │                   │            │                   │\n├─────────────────────┼───────────────────┼────────────┼───────────────────┤\n│ sequential_5        │ (<span style=\"color: #00d7ff; text-decoration-color: #00d7ff\">None</span>, <span style=\"color: #00af00; text-decoration-color: #00af00\">256</span>)       │  <span style=\"color: #00af00; text-decoration-color: #00af00\">1,814,784</span> │ anchor_input[<span style=\"color: #00af00; text-decoration-color: #00af00\">0</span>][<span style=\"color: #00af00; text-decoration-color: #00af00\">…</span> │\n│ (<span style=\"color: #0087ff; text-decoration-color: #0087ff\">Sequential</span>)        │                   │            │ positive_input[<span style=\"color: #00af00; text-decoration-color: #00af00\">0</span>… │\n│                     │                   │            │ negative_input[<span style=\"color: #00af00; text-decoration-color: #00af00\">0</span>… │\n└─────────────────────┴───────────────────┴────────────┴───────────────────┘\n</pre>\n"
          },
          "metadata": {}
        },
        {
          "output_type": "display_data",
          "data": {
            "text/plain": "\u001b[1m Total params: \u001b[0m\u001b[38;5;34m1,814,784\u001b[0m (6.92 MB)\n",
            "text/html": "<pre style=\"white-space:pre;overflow-x:auto;line-height:normal;font-family:Menlo,'DejaVu Sans Mono',consolas,'Courier New',monospace\"><span style=\"font-weight: bold\"> Total params: </span><span style=\"color: #00af00; text-decoration-color: #00af00\">1,814,784</span> (6.92 MB)\n</pre>\n"
          },
          "metadata": {}
        },
        {
          "output_type": "display_data",
          "data": {
            "text/plain": "\u001b[1m Trainable params: \u001b[0m\u001b[38;5;34m1,814,784\u001b[0m (6.92 MB)\n",
            "text/html": "<pre style=\"white-space:pre;overflow-x:auto;line-height:normal;font-family:Menlo,'DejaVu Sans Mono',consolas,'Courier New',monospace\"><span style=\"font-weight: bold\"> Trainable params: </span><span style=\"color: #00af00; text-decoration-color: #00af00\">1,814,784</span> (6.92 MB)\n</pre>\n"
          },
          "metadata": {}
        },
        {
          "output_type": "display_data",
          "data": {
            "text/plain": "\u001b[1m Non-trainable params: \u001b[0m\u001b[38;5;34m0\u001b[0m (0.00 B)\n",
            "text/html": "<pre style=\"white-space:pre;overflow-x:auto;line-height:normal;font-family:Menlo,'DejaVu Sans Mono',consolas,'Courier New',monospace\"><span style=\"font-weight: bold\"> Non-trainable params: </span><span style=\"color: #00af00; text-decoration-color: #00af00\">0</span> (0.00 B)\n</pre>\n"
          },
          "metadata": {}
        }
      ]
    },
    {
      "cell_type": "code",
      "source": [
        "print(f\"Anchor data shape: {anchor_data.shape}\")\n",
        "print(f\"Positive data shape: {positive_data.shape}\")\n",
        "print(f\"Negative data shape: {negative_data.shape}\")"
      ],
      "metadata": {
        "execution": {
          "iopub.status.busy": "2024-09-09T17:54:25.406720Z",
          "iopub.execute_input": "2024-09-09T17:54:25.407441Z",
          "iopub.status.idle": "2024-09-09T17:54:25.412109Z",
          "shell.execute_reply.started": "2024-09-09T17:54:25.407387Z",
          "shell.execute_reply": "2024-09-09T17:54:25.411242Z"
        },
        "trusted": true,
        "id": "YwSSp3gQsIqV",
        "outputId": "be1164e9-c015-40b9-a1c8-a658ac6b1cd4"
      },
      "execution_count": null,
      "outputs": [
        {
          "name": "stdout",
          "text": "Anchor data shape: (901, 50, 37)\nPositive data shape: (901, 50, 37)\nNegative data shape: (901, 50, 37)\n",
          "output_type": "stream"
        }
      ]
    }
  ]
}