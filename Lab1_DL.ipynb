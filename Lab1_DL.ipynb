{
  "nbformat": 4,
  "nbformat_minor": 0,
  "metadata": {
    "colab": {
      "provenance": [],
      "gpuType": "T4"
    },
    "kernelspec": {
      "name": "python3",
      "display_name": "Python 3"
    },
    "language_info": {
      "name": "python"
    },
    "accelerator": "GPU"
  },
  "cells": [
    {
      "cell_type": "code",
      "execution_count": null,
      "metadata": {
        "id": "BQ-ff5DgDsbN"
      },
      "outputs": [],
      "source": [
        "import tensorflow as tf"
      ]
    },
    {
      "cell_type": "code",
      "source": [
        "# @title Task 1\n",
        "#creating tensor using tf.constant\n",
        "tensor_1d = tf.constant([1,2,3,4,5])\n",
        "tensor_2d = tf.constant([[1,2,3,4,5],[6,7,8,9,10]])\n",
        "tensor_3d = tf.constant([[[1,2],[3,4]], [[5,6],[7,8]]])\n",
        "print(tensor_1d)\n",
        "print(tensor_2d)\n",
        "print(tensor_3d)"
      ],
      "metadata": {
        "colab": {
          "base_uri": "https://localhost:8080/"
        },
        "id": "razHBV8hD86f",
        "outputId": "5a609ff7-b50f-4901-b7d7-09a7fda0b5c4"
      },
      "execution_count": null,
      "outputs": [
        {
          "output_type": "stream",
          "name": "stdout",
          "text": [
            "tf.Tensor([1 2 3 4 5], shape=(5,), dtype=int32)\n",
            "tf.Tensor(\n",
            "[[ 1  2  3  4  5]\n",
            " [ 6  7  8  9 10]], shape=(2, 5), dtype=int32)\n",
            "tf.Tensor(\n",
            "[[[1 2]\n",
            "  [3 4]]\n",
            "\n",
            " [[5 6]\n",
            "  [7 8]]], shape=(2, 2, 2), dtype=int32)\n"
          ]
        }
      ]
    },
    {
      "cell_type": "code",
      "source": [
        "#creating tensor using tf.zeros, tf.ones and tf.fill\n",
        "tensor_3d = tf.zeros([3,4])\n",
        "tensor_4d = tf.zeros([1,2,3,4,5])\n",
        "tensor1 = tf.ones([3,4])\n",
        "tensor2 = tf.fill([3,4],23)\n",
        "print(tensor_3d)\n",
        "print(tensor_4d)\n",
        "print(tensor1)\n",
        "print(tensor2)"
      ],
      "metadata": {
        "colab": {
          "base_uri": "https://localhost:8080/"
        },
        "id": "a3V7wjEpEQs2",
        "outputId": "2745ec23-6318-4e44-93cc-428cfdee9629"
      },
      "execution_count": null,
      "outputs": [
        {
          "output_type": "stream",
          "name": "stdout",
          "text": [
            "tf.Tensor(\n",
            "[[0. 0. 0. 0.]\n",
            " [0. 0. 0. 0.]\n",
            " [0. 0. 0. 0.]], shape=(3, 4), dtype=float32)\n",
            "tf.Tensor(\n",
            "[[[[[0. 0. 0. 0. 0.]\n",
            "    [0. 0. 0. 0. 0.]\n",
            "    [0. 0. 0. 0. 0.]\n",
            "    [0. 0. 0. 0. 0.]]\n",
            "\n",
            "   [[0. 0. 0. 0. 0.]\n",
            "    [0. 0. 0. 0. 0.]\n",
            "    [0. 0. 0. 0. 0.]\n",
            "    [0. 0. 0. 0. 0.]]\n",
            "\n",
            "   [[0. 0. 0. 0. 0.]\n",
            "    [0. 0. 0. 0. 0.]\n",
            "    [0. 0. 0. 0. 0.]\n",
            "    [0. 0. 0. 0. 0.]]]\n",
            "\n",
            "\n",
            "  [[[0. 0. 0. 0. 0.]\n",
            "    [0. 0. 0. 0. 0.]\n",
            "    [0. 0. 0. 0. 0.]\n",
            "    [0. 0. 0. 0. 0.]]\n",
            "\n",
            "   [[0. 0. 0. 0. 0.]\n",
            "    [0. 0. 0. 0. 0.]\n",
            "    [0. 0. 0. 0. 0.]\n",
            "    [0. 0. 0. 0. 0.]]\n",
            "\n",
            "   [[0. 0. 0. 0. 0.]\n",
            "    [0. 0. 0. 0. 0.]\n",
            "    [0. 0. 0. 0. 0.]\n",
            "    [0. 0. 0. 0. 0.]]]]], shape=(1, 2, 3, 4, 5), dtype=float32)\n",
            "tf.Tensor(\n",
            "[[1. 1. 1. 1.]\n",
            " [1. 1. 1. 1.]\n",
            " [1. 1. 1. 1.]], shape=(3, 4), dtype=float32)\n",
            "tf.Tensor(\n",
            "[[23 23 23 23]\n",
            " [23 23 23 23]\n",
            " [23 23 23 23]], shape=(3, 4), dtype=int32)\n"
          ]
        }
      ]
    },
    {
      "cell_type": "code",
      "source": [
        "#finding the rank of previously created tensors\n",
        "rank_1d = tf.rank(tensor_1d)\n",
        "rank_4d = tf.rank(tensor_4d)\n",
        "print(rank_1d)\n",
        "print(rank_4d)"
      ],
      "metadata": {
        "colab": {
          "base_uri": "https://localhost:8080/"
        },
        "id": "0Mcad52FF_G0",
        "outputId": "83bbdeaa-b652-4aec-bc17-31640020863c"
      },
      "execution_count": null,
      "outputs": [
        {
          "output_type": "stream",
          "name": "stdout",
          "text": [
            "tf.Tensor(1, shape=(), dtype=int32)\n",
            "tf.Tensor(5, shape=(), dtype=int32)\n"
          ]
        }
      ]
    },
    {
      "cell_type": "code",
      "source": [
        "#finding the shape of tensor_1d\n",
        "shape = tf.shape(tensor_1d)\n",
        "shape"
      ],
      "metadata": {
        "colab": {
          "base_uri": "https://localhost:8080/"
        },
        "id": "lXo56wIVGuKJ",
        "outputId": "518ba1b6-02af-490e-e4dc-fc821958f94c"
      },
      "execution_count": null,
      "outputs": [
        {
          "output_type": "execute_result",
          "data": {
            "text/plain": [
              "<tf.Tensor: shape=(1,), dtype=int32, numpy=array([5], dtype=int32)>"
            ]
          },
          "metadata": {},
          "execution_count": 13
        }
      ]
    },
    {
      "cell_type": "code",
      "source": [
        "tensor = tf.constant([[1,2,3],[4,5,6]])\n",
        "# Reshaping the tensor\n",
        "print(\"Original Tensor :\", tensor)\n",
        "reshap = tf.reshape(tensor,[3,2])\n",
        "print(\"reshaped tensor :\", reshap)"
      ],
      "metadata": {
        "colab": {
          "base_uri": "https://localhost:8080/"
        },
        "id": "d0FyOOvIG_xP",
        "outputId": "e0573a9c-5ef5-475a-cd4a-5f6eaf17281f"
      },
      "execution_count": null,
      "outputs": [
        {
          "output_type": "stream",
          "name": "stdout",
          "text": [
            "Original Tensor : tf.Tensor(\n",
            "[[1 2 3]\n",
            " [4 5 6]], shape=(2, 3), dtype=int32)\n",
            "reshaped tensor : tf.Tensor(\n",
            "[[1 2]\n",
            " [3 4]\n",
            " [5 6]], shape=(3, 2), dtype=int32)\n"
          ]
        }
      ]
    },
    {
      "cell_type": "code",
      "source": [
        "#performing slicing on tensors\n",
        "t1 = tensor\n",
        "slice1 = t1[0:,:2]\n",
        "print(slice1)"
      ],
      "metadata": {
        "colab": {
          "base_uri": "https://localhost:8080/"
        },
        "id": "WYU6wv6YIvyv",
        "outputId": "f77556c7-0320-4a80-8a04-21dec0174e0a"
      },
      "execution_count": null,
      "outputs": [
        {
          "output_type": "stream",
          "name": "stdout",
          "text": [
            "tf.Tensor(\n",
            "[[1 2]\n",
            " [4 5]], shape=(2, 2), dtype=int32)\n"
          ]
        }
      ]
    },
    {
      "cell_type": "code",
      "source": [
        "#performing mathematical operations on tensors\n",
        "a = tf.constant([[1,2],[3,4]])\n",
        "b = tf.constant([[5,6],[7,8]])\n",
        "mul = tf.matmul(a,b) #performing matrix multiplication\n",
        "print (mul)\n",
        "\n",
        "\n",
        "add = tf.add(a,b)\n",
        "print(add) #performing addition\n",
        "\n",
        "sub = tf.subtract(a,b)\n",
        "print(sub) #performing subtraction\n",
        "\n",
        "tp = tf.transpose(a)\n",
        "tp2 = tf.transpose(b) #performing transpose\n",
        "print(tp,tp2)"
      ],
      "metadata": {
        "colab": {
          "base_uri": "https://localhost:8080/"
        },
        "id": "vYcU8jpCJli-",
        "outputId": "35b4606b-c94e-4de3-f609-dfd253cb610d"
      },
      "execution_count": null,
      "outputs": [
        {
          "output_type": "stream",
          "name": "stdout",
          "text": [
            "tf.Tensor(\n",
            "[[19 22]\n",
            " [43 50]], shape=(2, 2), dtype=int32)\n",
            "tf.Tensor(\n",
            "[[ 6  8]\n",
            " [10 12]], shape=(2, 2), dtype=int32)\n",
            "tf.Tensor(\n",
            "[[-4 -4]\n",
            " [-4 -4]], shape=(2, 2), dtype=int32)\n",
            "tf.Tensor(\n",
            "[[1 3]\n",
            " [2 4]], shape=(2, 2), dtype=int32) tf.Tensor(\n",
            "[[5 7]\n",
            " [6 8]], shape=(2, 2), dtype=int32)\n"
          ]
        }
      ]
    },
    {
      "cell_type": "code",
      "source": [
        "# Performing mathematical computation on tensor through constant, variable and\n",
        "# placeholder methods.\n",
        "\n",
        "# Using constants\n",
        "a = tf.constant([[1, 2], [3, 4]])\n",
        "b = tf.constant([[5, 6], [7, 8]])\n",
        "add_result = tf.add(a, b)\n",
        "print(\"Addition with constants:\", add_result)\n",
        "\n",
        "# Using variables\n",
        "var1 = tf.Variable([[10, 20], [30, 40]])\n",
        "var2 = tf.Variable([[50, 60], [70, 80]])\n",
        "sub_result = tf.subtract(var1, var2)\n",
        "print(\"Subtraction with variables:\", sub_result)\n",
        "\n",
        "#using placeholders , which typically requires creating a function\n",
        "@tf.function\n",
        "def multiply_tensors(x, y):\n",
        "  return tf.matmul(x, y)\n",
        "\n",
        "placeholder1 = tf.constant([[1, 2], [3, 4]])\n",
        "placeholder2 = tf.constant([[5, 6], [7, 8]])\n",
        "mul_result = multiply_tensors(placeholder1, placeholder2)\n",
        "print(\"Multiplication with placeholders:\", mul_result)\n"
      ],
      "metadata": {
        "colab": {
          "base_uri": "https://localhost:8080/"
        },
        "id": "RZXWJwAELtr8",
        "outputId": "d39f193e-2efe-4268-8461-b64a56c9dce2"
      },
      "execution_count": null,
      "outputs": [
        {
          "output_type": "stream",
          "name": "stdout",
          "text": [
            "Addition with constants: tf.Tensor(\n",
            "[[ 6  8]\n",
            " [10 12]], shape=(2, 2), dtype=int32)\n",
            "Subtraction with variables: tf.Tensor(\n",
            "[[-40 -40]\n",
            " [-40 -40]], shape=(2, 2), dtype=int32)\n",
            "Multiplication with placeholders: tf.Tensor(\n",
            "[[19 22]\n",
            " [43 50]], shape=(2, 2), dtype=int32)\n"
          ]
        }
      ]
    },
    {
      "cell_type": "code",
      "source": [
        "# Performing computation on the tensor through building a graph, running the session, then\n",
        "# evaluating results.\n",
        "\n",
        "# Building a graph\n",
        "graph = tf.Graph()\n",
        "with graph.as_default():\n",
        "  a = tf.constant([[1, 2], [3, 4]])\n",
        "  b = tf.constant([[5, 6], [7, 8]])\n",
        "  add_op = tf.add(a, b)\n",
        "\n",
        "# Running the session\n",
        "with tf.compat.v1.Session(graph=graph) as sess:\n",
        "  result = sess.run(add_op)\n",
        "  print(\"Result from graph computation:\", result)\n"
      ],
      "metadata": {
        "colab": {
          "base_uri": "https://localhost:8080/"
        },
        "id": "uOvYi86rMfAr",
        "outputId": "1de8b0e3-eb6b-4a05-e54c-785829a5517a"
      },
      "execution_count": null,
      "outputs": [
        {
          "output_type": "stream",
          "name": "stdout",
          "text": [
            "Result from graph computation: [[ 6  8]\n",
            " [10 12]]\n"
          ]
        }
      ]
    },
    {
      "cell_type": "code",
      "source": [
        "import numpy as np\n",
        "import tensorflow as tf\n",
        "\n",
        "# Sample input data\n",
        "data = np.array([[1, 2, 3], [4, 5, 6], [7, 8, 9]])\n",
        "labels = np.array([0, 1, 0])\n",
        "\n",
        "# Creating a TensorFlow Dataset\n",
        "dataset = tf.data.Dataset.from_tensor_slices((data, labels))\n",
        "\n",
        "# Preprocessing the dataset\n",
        "dataset = dataset.shuffle(buffer_size=len(data))\n",
        "dataset = dataset.batch(batch_size=2)\n",
        "\n",
        "# Iterating over the dataset\n",
        "for features, labels in dataset:\n",
        "    print(\"Features:\", features.numpy())\n",
        "    print(\"Labels:\", labels.numpy())\n",
        "\n",
        "#Applying different Transformation techniques to the prepared dataset.\n",
        "\n",
        "# NumPy Iterator\n",
        "numpy_iterator = dataset.as_numpy_iterator()\n",
        "print(\"NumPy Iterator:\")\n",
        "for features, labels in numpy_iterator:\n",
        "    print(\"Features:\", features)\n",
        "    print(\"Labels:\", labels)\n",
        "\n",
        "#Cardinality finding\n",
        "dataset = dataset.unbatch()\n",
        "cardinality = dataset.cardinality().numpy()\n",
        "print(\"\\nCardinality of Dataset:\", cardinality)\n",
        "\n"
      ],
      "metadata": {
        "id": "7knNOHsyM94O",
        "colab": {
          "base_uri": "https://localhost:8080/"
        },
        "outputId": "0e4f83f1-6f6a-42aa-f44e-294c429b79ef"
      },
      "execution_count": null,
      "outputs": [
        {
          "output_type": "stream",
          "name": "stdout",
          "text": [
            "Features: [[7 8 9]\n",
            " [4 5 6]]\n",
            "Labels: [0 1]\n",
            "Features: [[1 2 3]]\n",
            "Labels: [0]\n",
            "NumPy Iterator:\n",
            "Features: [[4 5 6]\n",
            " [7 8 9]]\n",
            "Labels: [1 0]\n",
            "Features: [[1 2 3]]\n",
            "Labels: [0]\n",
            "\n",
            "Cardinality of Dataset: -2\n"
          ]
        }
      ]
    },
    {
      "cell_type": "code",
      "source": [
        "# @title Task 2\n",
        "import pandas as pd\n",
        "from sklearn.model_selection import train_test_split\n",
        "from sklearn.preprocessing import StandardScaler\n",
        "from tensorflow.keras.models import Sequential\n",
        "from tensorflow.keras.layers import Dense\n",
        "import matplotlib.pyplot as plt\n",
        "\n",
        "# Loading the dataset\n",
        "dataset = pd.read_csv('synthetic_regression_dataset.csv')\n",
        "\n",
        "# Splitting the dataset into input features and target variable\n",
        "X = dataset.drop(columns='target')\n",
        "y = dataset['target']\n",
        "\n",
        "# Splitting the dataset into training and testing sets\n",
        "X_train, X_test, y_train, y_test = train_test_split(X, y, test_size=0.2, random_state=42)\n",
        "\n",
        "# Standardizing the input features\n",
        "scaler = StandardScaler()\n",
        "X_train = scaler.fit_transform(X_train)\n",
        "X_test = scaler.transform(X_test)\n",
        "\n",
        "# Defining the neural network architecture\n",
        "model = Sequential()\n",
        "model.add(Dense(64, input_dim=X_train.shape[1], activation='relu'))  # Input layer and first hidden layer\n",
        "model.add(Dense(32, activation='relu'))  # Second hidden layer\n",
        "model.add(Dense(1, activation='linear'))  # Output layer for regression\n",
        "\n",
        "# Compiling the model\n",
        "model.compile(optimizer='adam', loss='mean_squared_error')\n",
        "\n",
        "# Training the model and store the training history\n",
        "history = model.fit(X_train, y_train, epochs=50, batch_size=32, validation_split=0.2, verbose=0)\n",
        "\n",
        "# Evaluating the model on the test set\n",
        "loss = model.evaluate(X_test, y_test, verbose=0)\n",
        "print(f'Test Loss: {loss}')\n",
        "\n",
        "# Plotting training & validation loss values\n",
        "plt.plot(history.history['loss'], label='Train Loss')\n",
        "plt.plot(history.history['val_loss'], label='Validation Loss')\n",
        "plt.title('Model Loss')\n",
        "plt.xlabel('Epoch')\n",
        "plt.ylabel('Loss')\n",
        "plt.legend(loc='upper right')\n",
        "\n",
        "# Showing the plot\n",
        "plt.show()\n"
      ],
      "metadata": {
        "colab": {
          "base_uri": "https://localhost:8080/",
          "height": 547
        },
        "id": "El_aV8kKLhhx",
        "outputId": "a55ff6fd-c780-45c2-9630-fc1a4e5b4254"
      },
      "execution_count": null,
      "outputs": [
        {
          "output_type": "stream",
          "name": "stderr",
          "text": [
            "/usr/local/lib/python3.10/dist-packages/keras/src/layers/core/dense.py:87: UserWarning: Do not pass an `input_shape`/`input_dim` argument to a layer. When using Sequential models, prefer using an `Input(shape)` object as the first layer in the model instead.\n",
            "  super().__init__(activity_regularizer=activity_regularizer, **kwargs)\n"
          ]
        },
        {
          "output_type": "stream",
          "name": "stdout",
          "text": [
            "Test Loss: 0.026113048195838928\n"
          ]
        },
        {
          "output_type": "display_data",
          "data": {
            "text/plain": [
              "<Figure size 640x480 with 1 Axes>"
            ],
            "image/png": "[encoded data removed]"
          },
          "metadata": {}
        }
      ]
    }
  ]
}